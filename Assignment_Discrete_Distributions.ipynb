{
  "nbformat": 4,
  "nbformat_minor": 0,
  "metadata": {
    "colab": {
      "provenance": [],
      "collapsed_sections": [],
      "include_colab_link": true
    },
    "kernelspec": {
      "name": "python3",
      "display_name": "Python 3"
    }
  },
  "cells": [
    {
      "cell_type": "markdown",
      "metadata": {
        "id": "view-in-github",
        "colab_type": "text"
      },
      "source": [
        "<a href=\"https://colab.research.google.com/github/ramank123/Assignment/blob/main/Assignment_Discrete_Distributions.ipynb\" target=\"_parent\"><img src=\"https://colab.research.google.com/assets/colab-badge.svg\" alt=\"Open In Colab\"/></a>"
      ]
    },
    {
      "cell_type": "markdown",
      "metadata": {
        "id": "AioAG-n5U_6S"
      },
      "source": [
        "**Complete these problems by hand in a piece of paper and then upload in a text cell.**"
      ]
    },
    {
      "cell_type": "markdown",
      "metadata": {
        "id": "Oq9OIkpjU3hr"
      },
      "source": [
        "# Problem 1"
      ]
    },
    {
      "cell_type": "markdown",
      "metadata": {
        "id": "Z7v307bnPp1s"
      },
      "source": [
        "What is the probability that at least 9 out of a group of 10 people who have been infected by a serious disease will survive, if the survival probability for the disease is 70%?"
      ]
    },
    {
      "cell_type": "markdown",
      "metadata": {
        "id": "1ECG-HvyQ01v"
      },
      "source": [
        "# Problem 2"
      ]
    },
    {
      "cell_type": "markdown",
      "metadata": {
        "id": "J1wb3oY7P6RM"
      },
      "source": [
        "If the probability of having a male or female child is equal, what is the probability that a\n",
        "woman’s fourth child is her first son?"
      ]
    },
    {
      "cell_type": "markdown",
      "metadata": {
        "id": "Y7_9sh5XQ2ip"
      },
      "source": [
        "# Problem 3"
      ]
    },
    {
      "cell_type": "markdown",
      "metadata": {
        "id": "Ua9Oo4zckZ8e"
      },
      "source": [
        "If each of the 55 million people in the UK independently has probability $1\\times10^{-8}$ of\n",
        "being killed by a falling meteorite in a given year, calculate the probability of exactly 2\n",
        "such deaths occurring in a given year."
      ]
    },
    {
      "cell_type": "markdown",
      "metadata": {
        "id": "qpBaazJwVQTW"
      },
      "source": [
        "# Problem 4"
      ]
    },
    {
      "cell_type": "markdown",
      "metadata": {
        "id": "hN74icc0QFkp"
      },
      "source": [
        "The number of home insurance claims a company receives in a month is distributed as a Poisson random variable with mean 2. Calculate the probability that the company receives exactly 30 claims in a year."
      ]
    },
    {
      "cell_type": "markdown",
      "metadata": {
        "id": "J3WEy97UWZn-"
      },
      "source": [
        "# Problem 5"
      ]
    },
    {
      "cell_type": "markdown",
      "metadata": {
        "id": "IddmKm-CWN77"
      },
      "source": [
        "What is a negative binomial distribution? Write its PDF, mean and variance. (Internet Search)\n",
        "\n"
      ]
    },
    {
      "cell_type": "markdown",
      "metadata": {
        "id": "srFKV49dWlXj"
      },
      "source": [
        "# Problem 6"
      ]
    },
    {
      "cell_type": "markdown",
      "metadata": {
        "id": "xY83neS2WoQn"
      },
      "source": [
        "What is a hypergeometric distribution? Write its PDF, mean and variance. (Internet Search)\n",
        "\n"
      ]
    }
  ]
}