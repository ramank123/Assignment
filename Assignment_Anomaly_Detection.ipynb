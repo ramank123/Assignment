{
  "nbformat": 4,
  "nbformat_minor": 0,
  "metadata": {
    "colab": {
      "provenance": [],
      "collapsed_sections": [],
      "include_colab_link": true
    },
    "kernelspec": {
      "display_name": "Python 3",
      "language": "python",
      "name": "python3"
    },
    "language_info": {
      "codemirror_mode": {
        "name": "ipython",
        "version": 3
      },
      "file_extension": ".py",
      "mimetype": "text/x-python",
      "name": "python",
      "nbconvert_exporter": "python",
      "pygments_lexer": "ipython3",
      "version": "3.7.1"
    }
  },
  "cells": [
    {
      "cell_type": "markdown",
      "metadata": {
        "id": "view-in-github",
        "colab_type": "text"
      },
      "source": [
        "<a href=\"https://colab.research.google.com/github/ramank123/Assignment/blob/main/Assignment_Anomaly_Detection.ipynb\" target=\"_parent\"><img src=\"https://colab.research.google.com/assets/colab-badge.svg\" alt=\"Open In Colab\"/></a>"
      ]
    },
    {
      "cell_type": "markdown",
      "metadata": {
        "id": "HsGlbrvu9Xa3"
      },
      "source": [
        "# Perform univariate and multivariate anomaly detection on the `Sales` and `Profit` columns of the Superstore dataset.\n",
        "\n",
        "* Use the `Local Outlier Factor` algorithm.\n",
        "* Write in detail how this algorithm helps us in detecting anomalies.\n",
        "\n",
        "[Resource](https://scikit-learn.org/stable/modules/outlier_detection.html)\n",
        "\n",
        "\n"
      ]
    },
    {
      "cell_type": "code",
      "metadata": {
        "id": "Qr01ic1eA-q0"
      },
      "source": [],
      "execution_count": null,
      "outputs": []
    }
  ]
}